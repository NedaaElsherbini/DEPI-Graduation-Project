{
 "cells": [
  {
   "cell_type": "code",
   "execution_count": 1,
   "id": "a385cc12",
   "metadata": {
    "scrolled": true
   },
   "outputs": [
    {
     "name": "stdout",
     "output_type": "stream",
     "text": [
      "Requirement already satisfied: cmake in c:\\users\\dell\\anaconda3\\lib\\site-packages (3.28.1)\n",
      "Requirement already satisfied: dlib in c:\\users\\dell\\anaconda3\\lib\\site-packages (19.24.2)\n",
      "Requirement already satisfied: face_recognition in c:\\users\\dell\\anaconda3\\lib\\site-packages (1.3.0)\n",
      "Requirement already satisfied: numpy in c:\\users\\dell\\anaconda3\\lib\\site-packages (1.24.3)\n",
      "Requirement already satisfied: face-recognition-models>=0.3.0 in c:\\users\\dell\\anaconda3\\lib\\site-packages (from face_recognition) (0.3.0)\n",
      "Requirement already satisfied: Click>=6.0 in c:\\users\\dell\\anaconda3\\lib\\site-packages (from face_recognition) (8.0.4)\n",
      "Requirement already satisfied: Pillow in c:\\users\\dell\\anaconda3\\lib\\site-packages (from face_recognition) (9.4.0)\n",
      "Requirement already satisfied: colorama in c:\\users\\dell\\anaconda3\\lib\\site-packages (from Click>=6.0->face_recognition) (0.4.6)\n"
     ]
    }
   ],
   "source": [
    "!pip install cmake dlib face_recognition numpy"
   ]
  },
  {
   "cell_type": "markdown",
   "id": "c0a0a8b0",
   "metadata": {},
   "source": [
    "## Importing Libraries"
   ]
  },
  {
   "cell_type": "code",
   "execution_count": 1,
   "id": "a14b9a0c",
   "metadata": {},
   "outputs": [],
   "source": [
    "import cv2\n",
    "import numpy as np\n",
    "import face_recognition\n",
    "import os\n",
    "from datetime import datetime "
   ]
  },
  {
   "cell_type": "code",
   "execution_count": 2,
   "id": "db0c22d6",
   "metadata": {},
   "outputs": [
    {
     "data": {
      "text/plain": [
       "'c:\\\\Users\\\\dell\\\\Downloads'"
      ]
     },
     "execution_count": 2,
     "metadata": {},
     "output_type": "execute_result"
    }
   ],
   "source": [
    "os.getcwd()"
   ]
  },
  {
   "cell_type": "markdown",
   "id": "79c3f9e4",
   "metadata": {},
   "source": [
    " ## Path For Test Images"
   ]
  },
  {
   "cell_type": "code",
   "execution_count": 7,
   "id": "9d164429",
   "metadata": {
    "scrolled": true
   },
   "outputs": [
    {
     "name": "stdout",
     "output_type": "stream",
     "text": [
      "Processing images for: Abdlrahman Elshaer\n",
      "Processing images for: Moaz Tawfik\n",
      "Processing images for: Nada Medhat\n",
      "Processing images for: Nedaa Elsherbini\n",
      "Processing images for: Noha Elbilkasy\n",
      "['Abdlrahman Elshaer', 'Abdlrahman Elshaer', 'Abdlrahman Elshaer', 'Abdlrahman Elshaer', 'Abdlrahman Elshaer', 'Moaz Tawfik', 'Moaz Tawfik', 'Moaz Tawfik', 'Moaz Tawfik', 'Moaz Tawfik', 'Nada Medhat', 'Nada Medhat', 'Nada Medhat', 'Nada Medhat', 'Nada Medhat', 'Nada Medhat', 'Nedaa Elsherbini', 'Nedaa Elsherbini', 'Nedaa Elsherbini', 'Nedaa Elsherbini', 'Nedaa Elsherbini', 'Noha Elbilkasy', 'Noha Elbilkasy', 'Noha Elbilkasy', 'Noha Elbilkasy']\n"
     ]
    }
   ],
   "source": [
    "\n",
    "# Define the main directory containing the training images\n",
    "base_dir = r\"C:\\Users\\dell\\Downloads\\Training images\"\n",
    "images = []\n",
    "classNames = []\n",
    "\n",
    "# Loop through each folder (each person's name)\n",
    "for person_folder in os.listdir(base_dir):\n",
    "    person_path = os.path.join(base_dir, person_folder)\n",
    "    \n",
    "    # Check if it's a directory (i.e., a folder containing images of one person)\n",
    "    if os.path.isdir(person_path):\n",
    "        print(f\"Processing images for: {person_folder}\")\n",
    "        \n",
    "        # Loop through images in the person's folder\n",
    "        for img_name in os.listdir(person_path):\n",
    "            img_path = os.path.join(person_path, img_name)\n",
    "            \n",
    "            # Read the image and add it to the list\n",
    "            curImg = cv2.imread(img_path)\n",
    "            if curImg is not None:  # Make sure the image is read correctly\n",
    "                images.append(curImg)\n",
    "                classNames.append(person_folder)  # Use folder name as the class label\n",
    "\n",
    "print(classNames)"
   ]
  },
  {
   "cell_type": "markdown",
   "id": "43822d31",
   "metadata": {},
   "source": [
    "## Extracting names from the List\n"
   ]
  },
  {
   "cell_type": "markdown",
   "id": "6721ab90",
   "metadata": {},
   "source": [
    " ## Converting the Images into Encodings\n"
   ]
  },
  {
   "cell_type": "code",
   "execution_count": 8,
   "id": "2b9c497a",
   "metadata": {},
   "outputs": [],
   "source": [
    "def findEncodings(images):\n",
    "    encodeList = []\n",
    "    for img in images:\n",
    "        img = cv2.cvtColor(img, cv2.COLOR_BGR2RGB)\n",
    "        encode = face_recognition.face_encodings(img)[0]\n",
    "        encodeList.append(encode)\n",
    "    return encodeList\n"
   ]
  },
  {
   "cell_type": "markdown",
   "id": "99ae1021",
   "metadata": {},
   "source": [
    "## Accessing Camera"
   ]
  },
  {
   "cell_type": "code",
   "execution_count": null,
   "id": "e25d9159",
   "metadata": {},
   "outputs": [],
   "source": [
    "# Capture video from webcam\n",
    "cap = cv2.VideoCapture(0)\n",
    "frame_resizing = 0.25\n",
    "\n",
    "# Get the known encodings\n",
    "encodeListKnown = findEncodings(images)\n",
    "\n",
    "while True:\n",
    "    success, img = cap.read()\n",
    "    if not success:\n",
    "        print(\"Failed to capture image\")\n",
    "        break\n",
    "\n",
    "    imgS = cv2.resize(img, (0, 0), fx=frame_resizing, fy=frame_resizing)\n",
    "    imgS = cv2.cvtColor(imgS, cv2.COLOR_BGR2RGB)\n",
    "\n",
    "    # Find faces and encodings in the current frame\n",
    "    facesCurFrame = face_recognition.face_locations(imgS)\n",
    "    encodesCurFrame = face_recognition.face_encodings(imgS, facesCurFrame)\n",
    "\n",
    "    for encodeFace, faceLoc in zip(encodesCurFrame, facesCurFrame):\n",
    "        matches = face_recognition.compare_faces(encodeListKnown, encodeFace)\n",
    "        print('Matches:', matches)\n",
    "        \n",
    "        faceDis = face_recognition.face_distance(encodeListKnown, encodeFace)\n",
    "        print('Face distances:', faceDis)\n",
    "        \n",
    "        matchIndex = np.argmin(faceDis)\n",
    "        \n",
    "        if matches[matchIndex]:\n",
    "            name = classNames[matchIndex].upper()\n",
    "            print(name)\n",
    "            \n",
    "            # Scale face location back to original image size\n",
    "            y1, x2, y2, x1 = faceLoc\n",
    "            y1, x2, y2, x1 = int(y1 / frame_resizing), int(x2 / frame_resizing), int(y2 / frame_resizing), int(x1 / frame_resizing)\n",
    "\n",
    "            # Draw rectangle around the face and display the name\n",
    "            cv2.rectangle(img, (x1, y1), (x2, y2), (0, 255, 0), 2)\n",
    "            cv2.rectangle(img, (x1, y2 - 35), (x2, y2), (0, 255, 0), cv2.FILLED)\n",
    "            cv2.putText(img, name, (x1 + 6, y2 - 6), cv2.FONT_HERSHEY_COMPLEX, 1, (255, 255, 255), 2)\n",
    "            # markAttendance(name)  # Uncomment this line if you have the function defined\n",
    "\n",
    "    cv2.imshow('Webcam', img)\n",
    "    key = cv2.waitKey(1)\n",
    "    if key == 27:  # Press 'ESC' to exit\n",
    "        break\n",
    "\n",
    "cap.release()\n",
    "cv2.destroyAllWindows()"
   ]
  },
  {
   "cell_type": "code",
   "execution_count": null,
   "id": "049d34c4",
   "metadata": {},
   "outputs": [],
   "source": [
    "#Let's test the code\n",
    "\n",
    "test_images_dir = \"test_images/\"\n",
    "correct_predictions = 0\n",
    "total_predictions = 0\n",
    "\n",
    "# Loop through each person's folder in the test set\n",
    "for person_folder in os.listdir(test_images_dir):\n",
    "    person_path = os.path.join(test_images_dir, person_folder)\n",
    "\n",
    "    # Check if it's a directory (i.e., a folder containing images of one person)\n",
    "    if os.path.isdir(person_path):\n",
    "        for img_name in os.listdir(person_path):\n",
    "            img_path = os.path.join(person_path, img_name)\n",
    "            \n",
    "            # Load and process the test image\n",
    "            img = cv2.imread(img_path)\n",
    "            imgS = cv2.resize(img, (0, 0), fx=0.25, fy=0.25)\n",
    "            imgS = cv2.cvtColor(imgS, cv2.COLOR_BGR2RGB)\n",
    "            \n",
    "            # Detect faces and encode them\n",
    "            face_locations = face_recognition.face_locations(imgS)\n",
    "            encodesCurFrame = face_recognition.face_encodings(imgS, face_locations)\n",
    "\n",
    "            for encodeFace in encodesCurFrame:\n",
    "                matches = face_recognition.compare_faces(encodeListKnown, encodeFace)\n",
    "                faceDis = face_recognition.face_distance(encodeListKnown, encodeFace)\n",
    "                matchIndex = np.argmin(faceDis)\n",
    "                \n",
    "                # Predicted name\n",
    "                if matches[matchIndex]:\n",
    "                    predicted_name = classNames[matchIndex].upper()\n",
    "                else:\n",
    "                    predicted_name = \"Unknown\"\n",
    "\n",
    "                # Actual name\n",
    "                actual_name = person_folder.upper()\n",
    "\n",
    "                # Compare actual name with predicted name\n",
    "                if predicted_name == actual_name:\n",
    "                    correct_predictions += 1\n",
    "\n",
    "                total_predictions += 1\n",
    "\n",
    "# Calculate accuracy\n",
    "if total_predictions > 0:\n",
    "    accuracy = (correct_predictions / total_predictions) * 100\n",
    "    print(f\"Model Accuracy: {accuracy:.2f}%\")\n",
    "else:\n",
    "    print(\"No test images found.\")"
   ]
  },
  {
   "cell_type": "code",
   "execution_count": null,
   "id": "f13427c8",
   "metadata": {},
   "outputs": [],
   "source": []
  },
  {
   "cell_type": "code",
   "execution_count": null,
   "id": "adc60ead",
   "metadata": {},
   "outputs": [],
   "source": []
  }
 ],
 "metadata": {
  "kernelspec": {
   "display_name": "Python 3",
   "language": "python",
   "name": "python3"
  },
  "language_info": {
   "codemirror_mode": {
    "name": "ipython",
    "version": 3
   },
   "file_extension": ".py",
   "mimetype": "text/x-python",
   "name": "python",
   "nbconvert_exporter": "python",
   "pygments_lexer": "ipython3",
   "version": "3.12.6"
  }
 },
 "nbformat": 4,
 "nbformat_minor": 5
}
